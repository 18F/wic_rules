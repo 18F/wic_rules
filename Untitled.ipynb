{
 "cells": [
  {
   "cell_type": "code",
   "execution_count": 3,
   "metadata": {},
   "outputs": [],
   "source": [
    "from jsonschema import validate\n",
    "import json"
   ]
  },
  {
   "cell_type": "code",
   "execution_count": 4,
   "metadata": {},
   "outputs": [],
   "source": [
    "with open('examples/payload0.json') as infile:\n",
    "    payload = json.load(infile)"
   ]
  },
  {
   "cell_type": "code",
   "execution_count": 5,
   "metadata": {},
   "outputs": [
    {
     "data": {
      "text/plain": [
       "[{'applicants': [{'adjunct_income_eligibility': [{'program': 'snap',\n",
       "      'verified': True},\n",
       "     {'program': 'medicaid', 'verified': True}],\n",
       "    'id': 1,\n",
       "    'identity_proven': True,\n",
       "    'physically_present': True},\n",
       "   {'id': 2, 'identity_proven': True, 'physically_present': False},\n",
       "   {'adjunct_income_eligibility': [{'program': 'snap',\n",
       "      'verified': 'Excepted'}],\n",
       "    'id': 3,\n",
       "    'identity_proven': 'Excepted',\n",
       "    'physically_present': True},\n",
       "   {'id': 4, 'identity_proven': 'Excepted', 'physically_present': True}],\n",
       "  'id': 1,\n",
       "  'income': [{'dollars': 1480.5,\n",
       "    'frequency': 'bi-weekly',\n",
       "    'source': 'wages-and-salary',\n",
       "    'verified': True},\n",
       "   {'dollars': 1150.75,\n",
       "    'frequency': 'weekly',\n",
       "    'source': 'self-employment',\n",
       "    'verified': False},\n",
       "   {'dollars': 200,\n",
       "    'frequency': 'semi-monthly',\n",
       "    'source': 'social-security',\n",
       "    'verified': 'Excepted'},\n",
       "   {'dollars': 2000,\n",
       "    'frequency': 'annually',\n",
       "    'source': 'royalties',\n",
       "    'verified': True},\n",
       "   {'dollars': 200,\n",
       "    'frequency': 'monthly',\n",
       "    'source': 'alimony-and-child-support',\n",
       "    'verified': False}],\n",
       "  'number_in_economic_unit': 5,\n",
       "  'referrer_state': 'OH'},\n",
       " {'applicants': [{'id': 6,\n",
       "    'identity_proven': 'Excepted',\n",
       "    'physically_present': True}],\n",
       "  'id': 2,\n",
       "  'income': [{'dollars': 11480.5,\n",
       "    'frequency': 'bi-weekly',\n",
       "    'source': 'wages-and-salary',\n",
       "    'verified': True}],\n",
       "  'number_in_economic_unit': 1,\n",
       "  'referrer_state': 'AK'}]"
      ]
     },
     "execution_count": 5,
     "metadata": {},
     "output_type": "execute_result"
    }
   ],
   "source": [
    "payload"
   ]
  },
  {
   "cell_type": "code",
   "execution_count": 6,
   "metadata": {},
   "outputs": [],
   "source": [
    "validate(payload, {})"
   ]
  },
  {
   "cell_type": "code",
   "execution_count": 17,
   "metadata": {},
   "outputs": [],
   "source": [
    "schema = {\n",
    "    \"$schema\": \"http://json-schema.org/draft-06/schema#\",\n",
    "    \"title\": \"Application\",\n",
    "    \"description\": \"A set of applications, one per household\",\n",
    "    \"type\": \"array\",\n",
    "    \"items\": {\n",
    "        \"title\": \"applications\",\n",
    "        \"type\": \"object\",\n",
    "            \"properties\": {\n",
    "                \"applicants\": {\n",
    "                \"description\": \"Individuals (adults or children) to receive benefits\",\n",
    "                \"type\": \"array\",\n",
    "                \"items\": {\n",
    "                    \"type\": \"object\",\n",
    "                    \"properties\": {\n",
    "                        \"id\": {\n",
    "                            \"type\": \"integer\",\n",
    "                            \"description\": \"Unique identifier within a submission\",\n",
    "                        },\n",
    "                        \"identity_proven\": {       \n",
    "                              \"oneOf\": [\n",
    "                                { \"type\": \"boolean\",  },\n",
    "                                { \"type\": \"string\", \"value\": \"Excepted\", }\n",
    "                            ],\n",
    "                            \"description\": \"Has applicant met requirements for proving identity?\",\n",
    "                        }\n",
    "                        \n",
    "                    }\n",
    "                        \n",
    "                    }\n",
    "                },\n",
    "        }\n",
    "    }\n",
    "}"
   ]
  },
  {
   "cell_type": "code",
   "execution_count": 18,
   "metadata": {},
   "outputs": [],
   "source": [
    "validate(payload, schema)"
   ]
  },
  {
   "cell_type": "code",
   "execution_count": 44,
   "metadata": {},
   "outputs": [],
   "source": [
    "schema = {\n",
    "    \"$schema\": \"http://json-schema.org/draft-06/schema#\",\n",
    "    \"title\": \"Application\",\n",
    "    \"description\": \"A set of applications, one per household\",\n",
    "    \n",
    "    \"definitions\": {\n",
    "        \"ynexception\": {\n",
    "                              \"oneOf\": [\n",
    "                                { \"type\": \"boolean\",  },\n",
    "                                { \"type\": \"string\", \"value\": \"Excepted\", }\n",
    "                            ],\n",
    "        }\n",
    "    },\n",
    "    \"type\": \"array\",\n",
    "    \"items\": {\n",
    "        \"title\": \"applications\",\n",
    "        \"type\": \"object\",\n",
    "            \"properties\": {\n",
    "                \"id\": {\n",
    "                    \"type\": \"integer\",\n",
    "                },\n",
    "                \"number_in_economic_unit\": {\n",
    "                    \"type\": \"integer\",\n",
    "                },\n",
    "                \"income\": {\n",
    "                    \"type\": \"array\",\n",
    "                    \"description\": \"All income sources for the entire economic unit / household\",\n",
    "                    \"items\": {\n",
    "                        \"type\": \"object\",\n",
    "                        \"properties\": {\n",
    "                            \"dollars\": {\n",
    "                                \"type\": \"number\",\n",
    "                                \"multipleOf\": 0.01,\n",
    "                            },\n",
    "                            \"source\": {\n",
    "                                \"type\": \"string\",\n",
    "                                \"description\": \"class of income\",\n",
    "                                \"enum\": [\"wages-and-salary\", \"self-employment\", \"social-security\", \"interest-rent\", \n",
    "                                        \"assistance\", \"unemployment\", \"gov-retirement\", \"private-retirement\",\n",
    "                                        \"alimony-and-child-support\", \"personal-contributions\", \"royalties\",\n",
    "                                        \"other\"],\n",
    "                            },\n",
    "                            \"frequency\": {\n",
    "                                \"type\": \"string\",\n",
    "                                \"description\": \"How often `dollars` is received\",\n",
    "                                \"enum\": ['annual', 'monthly', 'semimonthly', 'semi-monthly',\n",
    "                                         'twicemonthly', 'twice-monthly', 'biweekly', 'bi-weekly',\n",
    "                                         'weekly'\n",
    "                                ]\n",
    "                            },\n",
    "                            \"verified\": {\n",
    "                                        \"$ref\": \"#/definitions/ynexception\",\n",
    "                            }  \n",
    "                            \n",
    "                        }\n",
    "                    }\n",
    "                },\n",
    "                \"applicants\": {\n",
    "                \"description\": \"Individuals (adults or children) to receive benefits\",\n",
    "                \"type\": \"array\",\n",
    "                \"items\": {\n",
    "                    \"type\": \"object\",\n",
    "                    \"properties\": {\n",
    "                        \"id\": {\n",
    "                            \"type\": \"integer\",\n",
    "                            \"description\": \"Unique identifier within a submission\",\n",
    "                        },\n",
    "                        \"identity_proven\": {      \n",
    "                            \"$ref\": \"#/definitions/ynexception\",\n",
    "                            \"description\": \"Has applicant met requirements for proving identity?\",\n",
    "                        },\n",
    "                        \"physically_present\": {      \n",
    "                            \"$ref\": \"#/definitions/ynexception\",\n",
    "                            \"description\": \"Has applicant met requirements for proving identity?\",\n",
    "                        },     \n",
    "                        \"adjunct_income_eligibility\": {\n",
    "                            \"description\": \"Any programs for which the applicant qualifies that confer automatic eligibility for this program.\",\n",
    "                            \"type\": \"array\",\n",
    "                            \"items\": {\n",
    "                                \"type\": \"object\",\n",
    "                                \"properties\": {\n",
    "                                    \"program\": {\n",
    "                                        \"type\": \"string\",\n",
    "                                    },\n",
    "                                    \"verified\": {\n",
    "                                        \"$ref\": \"#/definitions/ynexception\",\n",
    "                                    }\n",
    "                                }\n",
    "                            }\n",
    "                            \n",
    "                        }\n",
    "                        \n",
    "                    }\n",
    "                        \n",
    "                    }\n",
    "                },\n",
    "        }\n",
    "    }\n",
    "}"
   ]
  },
  {
   "cell_type": "code",
   "execution_count": 45,
   "metadata": {},
   "outputs": [
    {
     "ename": "ValidationError",
     "evalue": "'annually' is not one of ['annual', 'monthly', 'semimonthly', 'semi-monthly', 'twicemonthly', 'twice-monthly', 'biweekly', 'bi-weekly', 'weekly']\n\nFailed validating 'enum' in schema['items']['properties']['income']['items']['properties']['frequency']:\n    {'description': 'How often `dollars` is received',\n     'enum': ['annual',\n              'monthly',\n              'semimonthly',\n              'semi-monthly',\n              'twicemonthly',\n              'twice-monthly',\n              'biweekly',\n              'bi-weekly',\n              'weekly'],\n     'type': 'string'}\n\nOn instance[0]['income'][3]['frequency']:\n    'annually'",
     "output_type": "error",
     "traceback": [
      "\u001b[0;31m---------------------------------------------------------------------------\u001b[0m",
      "\u001b[0;31mValidationError\u001b[0m                           Traceback (most recent call last)",
      "\u001b[0;32m<ipython-input-45-581acad88748>\u001b[0m in \u001b[0;36m<module>\u001b[0;34m()\u001b[0m\n\u001b[0;32m----> 1\u001b[0;31m \u001b[0mvalidate\u001b[0m\u001b[0;34m(\u001b[0m\u001b[0mpayload\u001b[0m\u001b[0;34m,\u001b[0m \u001b[0mschema\u001b[0m\u001b[0;34m)\u001b[0m\u001b[0;34m\u001b[0m\u001b[0m\n\u001b[0m",
      "\u001b[0;32m~/.virtualenvs/eligibility_rules_server-_79jjduF/lib/python3.6/site-packages/jsonschema/validators.py\u001b[0m in \u001b[0;36mvalidate\u001b[0;34m(instance, schema, cls, *args, **kwargs)\u001b[0m\n\u001b[1;32m    539\u001b[0m         \u001b[0mcls\u001b[0m \u001b[0;34m=\u001b[0m \u001b[0mvalidator_for\u001b[0m\u001b[0;34m(\u001b[0m\u001b[0mschema\u001b[0m\u001b[0;34m)\u001b[0m\u001b[0;34m\u001b[0m\u001b[0m\n\u001b[1;32m    540\u001b[0m     \u001b[0mcls\u001b[0m\u001b[0;34m.\u001b[0m\u001b[0mcheck_schema\u001b[0m\u001b[0;34m(\u001b[0m\u001b[0mschema\u001b[0m\u001b[0;34m)\u001b[0m\u001b[0;34m\u001b[0m\u001b[0m\n\u001b[0;32m--> 541\u001b[0;31m     \u001b[0mcls\u001b[0m\u001b[0;34m(\u001b[0m\u001b[0mschema\u001b[0m\u001b[0;34m,\u001b[0m \u001b[0;34m*\u001b[0m\u001b[0margs\u001b[0m\u001b[0;34m,\u001b[0m \u001b[0;34m**\u001b[0m\u001b[0mkwargs\u001b[0m\u001b[0;34m)\u001b[0m\u001b[0;34m.\u001b[0m\u001b[0mvalidate\u001b[0m\u001b[0;34m(\u001b[0m\u001b[0minstance\u001b[0m\u001b[0;34m)\u001b[0m\u001b[0;34m\u001b[0m\u001b[0m\n\u001b[0m",
      "\u001b[0;32m~/.virtualenvs/eligibility_rules_server-_79jjduF/lib/python3.6/site-packages/jsonschema/validators.py\u001b[0m in \u001b[0;36mvalidate\u001b[0;34m(self, *args, **kwargs)\u001b[0m\n\u001b[1;32m    128\u001b[0m         \u001b[0;32mdef\u001b[0m \u001b[0mvalidate\u001b[0m\u001b[0;34m(\u001b[0m\u001b[0mself\u001b[0m\u001b[0;34m,\u001b[0m \u001b[0;34m*\u001b[0m\u001b[0margs\u001b[0m\u001b[0;34m,\u001b[0m \u001b[0;34m**\u001b[0m\u001b[0mkwargs\u001b[0m\u001b[0;34m)\u001b[0m\u001b[0;34m:\u001b[0m\u001b[0;34m\u001b[0m\u001b[0m\n\u001b[1;32m    129\u001b[0m             \u001b[0;32mfor\u001b[0m \u001b[0merror\u001b[0m \u001b[0;32min\u001b[0m \u001b[0mself\u001b[0m\u001b[0;34m.\u001b[0m\u001b[0miter_errors\u001b[0m\u001b[0;34m(\u001b[0m\u001b[0;34m*\u001b[0m\u001b[0margs\u001b[0m\u001b[0;34m,\u001b[0m \u001b[0;34m**\u001b[0m\u001b[0mkwargs\u001b[0m\u001b[0;34m)\u001b[0m\u001b[0;34m:\u001b[0m\u001b[0;34m\u001b[0m\u001b[0m\n\u001b[0;32m--> 130\u001b[0;31m                 \u001b[0;32mraise\u001b[0m \u001b[0merror\u001b[0m\u001b[0;34m\u001b[0m\u001b[0m\n\u001b[0m\u001b[1;32m    131\u001b[0m \u001b[0;34m\u001b[0m\u001b[0m\n\u001b[1;32m    132\u001b[0m         \u001b[0;32mdef\u001b[0m \u001b[0mis_type\u001b[0m\u001b[0;34m(\u001b[0m\u001b[0mself\u001b[0m\u001b[0;34m,\u001b[0m \u001b[0minstance\u001b[0m\u001b[0;34m,\u001b[0m \u001b[0mtype\u001b[0m\u001b[0;34m)\u001b[0m\u001b[0;34m:\u001b[0m\u001b[0;34m\u001b[0m\u001b[0m\n",
      "\u001b[0;31mValidationError\u001b[0m: 'annually' is not one of ['annual', 'monthly', 'semimonthly', 'semi-monthly', 'twicemonthly', 'twice-monthly', 'biweekly', 'bi-weekly', 'weekly']\n\nFailed validating 'enum' in schema['items']['properties']['income']['items']['properties']['frequency']:\n    {'description': 'How often `dollars` is received',\n     'enum': ['annual',\n              'monthly',\n              'semimonthly',\n              'semi-monthly',\n              'twicemonthly',\n              'twice-monthly',\n              'biweekly',\n              'bi-weekly',\n              'weekly'],\n     'type': 'string'}\n\nOn instance[0]['income'][3]['frequency']:\n    'annually'"
     ]
    }
   ],
   "source": [
    "validate(payload, schema)"
   ]
  },
  {
   "cell_type": "code",
   "execution_count": null,
   "metadata": {},
   "outputs": [],
   "source": []
  }
 ],
 "metadata": {
  "kernelspec": {
   "display_name": "Python 3",
   "language": "python",
   "name": "python3"
  },
  "language_info": {
   "codemirror_mode": {
    "name": "ipython",
    "version": 3
   },
   "file_extension": ".py",
   "mimetype": "text/x-python",
   "name": "python",
   "nbconvert_exporter": "python",
   "pygments_lexer": "ipython3",
   "version": "3.6.4"
  }
 },
 "nbformat": 4,
 "nbformat_minor": 2
}
